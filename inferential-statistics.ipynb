{
 "cells": [
  {
   "cell_type": "markdown",
   "id": "54ea2f61",
   "metadata": {},
   "source": [
    "### Instructions\n",
    "\n",
    "It is assumed that the mean systolic blood pressure is μ = 120 mm Hg. In the Honolulu Heart Study, a sample of n = 100 people had an average systolic blood pressure of 130.1 mm Hg with a standard deviation of 21.21 mm Hg. Is the group significantly different (with respect to systolic blood pressure!) from the regular population?\n",
    "\n",
    "- Set up the hypothesis test.\n",
    "- Write down all the steps followed for setting up the test.\n",
    "- Calculate the test statistic by hand and also code it in Python. It should be 4.76190. We will take a look at how to make decisions based on this calculated value.\n",
    "\n",
    "If you finished the previous question, please go through the code for principal_component_analysis_example provided in the files_for_lab folder ."
   ]
  },
  {
   "cell_type": "markdown",
   "id": "35bec15e",
   "metadata": {},
   "source": [
    "#### Let's define the null hypothesis (H0) and the alternative hypothesis (Ha)\n",
    "- H0: μ = 120 mm Hg\n",
    "- Ha: μ <> 120 mm Hg"
   ]
  },
  {
   "cell_type": "markdown",
   "id": "940df66b",
   "metadata": {},
   "source": [
    "#### Let's use a two-tailed t-test."
   ]
  },
  {
   "cell_type": "markdown",
   "id": "5558a7c9",
   "metadata": {},
   "source": [
    "significance level α = 0.05\n",
    "\n",
    "t-statistic = (x̄ - μ) / (s / √n) = (130.1 - 120) / (21.21 / √100) = 4.76\n",
    "\n",
    "p-value < 0.0001\n",
    "\n",
    "Since p-value is less than the significance level (0.05), we reject H0 and conclude that the mean systolic blood pressure of the sample is significantly different from the population mean."
   ]
  },
  {
   "cell_type": "markdown",
   "id": "65be1c3f",
   "metadata": {},
   "source": [
    "#### Code in Python"
   ]
  },
  {
   "cell_type": "code",
   "execution_count": 3,
   "id": "62d95d5b",
   "metadata": {},
   "outputs": [],
   "source": [
    "import math"
   ]
  },
  {
   "cell_type": "code",
   "execution_count": 7,
   "id": "cf633671",
   "metadata": {},
   "outputs": [],
   "source": [
    "def t_statistics(n,x,s,mu):\n",
    "    return ((x-mu)/(s/math.sqrt(n)))"
   ]
  },
  {
   "cell_type": "code",
   "execution_count": 8,
   "id": "05f073a3",
   "metadata": {},
   "outputs": [
    {
     "data": {
      "text/plain": [
       "4.761904761904759"
      ]
     },
     "execution_count": 8,
     "metadata": {},
     "output_type": "execute_result"
    }
   ],
   "source": [
    "t_statistics(100,130.1,21.21,120)"
   ]
  }
 ],
 "metadata": {
  "kernelspec": {
   "display_name": "Python 3 (ipykernel)",
   "language": "python",
   "name": "python3"
  },
  "language_info": {
   "codemirror_mode": {
    "name": "ipython",
    "version": 3
   },
   "file_extension": ".py",
   "mimetype": "text/x-python",
   "name": "python",
   "nbconvert_exporter": "python",
   "pygments_lexer": "ipython3",
   "version": "3.9.13"
  }
 },
 "nbformat": 4,
 "nbformat_minor": 5
}
